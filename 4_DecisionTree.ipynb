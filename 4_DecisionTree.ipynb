{
  "nbformat": 4,
  "nbformat_minor": 0,
  "metadata": {
    "colab": {
      "name": "4_DecisionTree.ipynb",
      "provenance": [],
      "collapsed_sections": [],
      "mount_file_id": "1nYY83xZ05I3GQUevaFH3TuJ4jAsLpdpM",
      "authorship_tag": "ABX9TyOFq+0PmRGxUx0ObIXAtf3A",
      "include_colab_link": true
    },
    "kernelspec": {
      "name": "python3",
      "display_name": "Python 3"
    },
    "language_info": {
      "name": "python"
    }
  },
  "cells": [
    {
      "cell_type": "markdown",
      "metadata": {
        "id": "view-in-github",
        "colab_type": "text"
      },
      "source": [
        "<a href=\"https://colab.research.google.com/github/yebiny/Lecture_deeplearning_basic/blob/main/4_DecisionTree.ipynb\" target=\"_parent\"><img src=\"https://colab.research.google.com/assets/colab-badge.svg\" alt=\"Open In Colab\"/></a>"
      ]
    },
    {
      "cell_type": "markdown",
      "metadata": {
        "id": "td_JM7e-EExF"
      },
      "source": [
        "# 의사결정나무 (Decision Tree)\n",
        "\n",
        ">**목차**\n",
        "1. 개념정리\n",
        "2. 불순도 (Impurity)\n",
        "3. 정보 획득 (Information gain) \n",
        "4. 학습 과정\n",
        "5. 실습\n",
        "\n"
      ]
    },
    {
      "cell_type": "code",
      "metadata": {
        "id": "Nm1csuNa0VrV"
      },
      "source": [
        "import numpy as np\n",
        "import matplotlib.pyplot as plt\n",
        "from sklearn import tree"
      ],
      "execution_count": null,
      "outputs": []
    },
    {
      "cell_type": "markdown",
      "metadata": {
        "id": "QQQgXWq2EQjP"
      },
      "source": [
        "## **1. 개념정리**\n",
        "---\n",
        "\n",
        "\n",
        "![](https://github.com/yebiny/Lecture_deeplearning_basic/blob/main/imgs/dt1.png?raw=true)"
      ]
    },
    {
      "cell_type": "code",
      "metadata": {
        "id": "tL7Niqpb0e7K"
      },
      "source": [
        ""
      ],
      "execution_count": null,
      "outputs": []
    },
    {
      "cell_type": "markdown",
      "metadata": {
        "id": "Kah7JGm0CIaj"
      },
      "source": [
        "## **2. 불순도 (Impurity)**\n",
        "---"
      ]
    },
    {
      "cell_type": "markdown",
      "metadata": {
        "id": "ZBzv-Isp-5sy"
      },
      "source": [
        "### **Gini**\n",
        "</br>\n",
        "\n",
        "### <center>$Gini(p_A) = 1-\\sum_{i=1}^{m}(p_{Ai})^2$</center>"
      ]
    },
    {
      "cell_type": "code",
      "metadata": {
        "id": "TcwAccSI-7Bs"
      },
      "source": [
        ""
      ],
      "execution_count": null,
      "outputs": []
    },
    {
      "cell_type": "markdown",
      "metadata": {
        "id": "nJ35bkml-_fS"
      },
      "source": [
        "### **Entropy**\n",
        "\n",
        "### <center>$Entropy(p_A) = -\\sum_{i=1}^{m}p_{Ai} log_2(p_{Ai})$</center>"
      ]
    },
    {
      "cell_type": "code",
      "metadata": {
        "id": "XfnlGMDt_A9j"
      },
      "source": [
        ""
      ],
      "execution_count": null,
      "outputs": []
    },
    {
      "cell_type": "markdown",
      "metadata": {
        "id": "YUefaX-5Ch_a"
      },
      "source": [
        "### **예제**\n",
        "\n",
        "![그림](https://github.com/yebiny/Lecture_deeplearning_basic/blob/main/imgs/bdt_%EB%B6%88%EC%88%9C%EB%8F%84.PNG?raw=true) </center>"
      ]
    },
    {
      "cell_type": "markdown",
      "metadata": {
        "id": "mrLmCPLcegrj"
      },
      "source": [
        "* 데이터 정의"
      ]
    },
    {
      "cell_type": "code",
      "metadata": {
        "id": "8rKTbrrGSCl1"
      },
      "source": [
        ""
      ],
      "execution_count": null,
      "outputs": []
    },
    {
      "cell_type": "markdown",
      "metadata": {
        "id": "nOzngpqZenay"
      },
      "source": [
        "* 불순도 계산"
      ]
    },
    {
      "cell_type": "code",
      "metadata": {
        "id": "FAcfX7MLa_xa"
      },
      "source": [
        ""
      ],
      "execution_count": null,
      "outputs": []
    },
    {
      "cell_type": "markdown",
      "metadata": {
        "id": "Tex06ibtFhTI"
      },
      "source": [
        "## **3. 정보 획득 (Information gain)**\n",
        "---\n",
        "</br>\n",
        "\n",
        "### <center>$ InformationGain = E_{parent}-w1 * E_{children1} - w2*E_{children2} - ...$</center>\n",
        "\n",
        "<center>* $E_{parent}$: 부모의 엔트로피</center>\n",
        "\n",
        "<center>* $E_{children}$: 자식의 엔트로피</center>\n",
        "\n",
        "<center>* $w$: weighted average, 가중평균</center>\n",
        "\n"
      ]
    },
    {
      "cell_type": "markdown",
      "metadata": {
        "id": "eW70eqMWFCOd"
      },
      "source": [
        "### **예제**\n",
        "\n",
        "![](https://github.com/yebiny/Lecture_deeplearning_basic/blob/main/imgs/bdt_%EC%A0%95%EB%B3%B4%ED%9A%8D%EB%93%9D.PNG?raw=true)"
      ]
    },
    {
      "cell_type": "markdown",
      "metadata": {
        "id": "rJ5o-JFAfcSK"
      },
      "source": [
        "* 영역 (a), (b), (c) 의 정의 "
      ]
    },
    {
      "cell_type": "code",
      "metadata": {
        "id": "8FGcgB-Ofhly"
      },
      "source": [
        ""
      ],
      "execution_count": null,
      "outputs": []
    },
    {
      "cell_type": "markdown",
      "metadata": {
        "id": "1PEpbc_igFDL"
      },
      "source": [
        "* 영역 (a), (b), (c) 의 entropy 계산"
      ]
    },
    {
      "cell_type": "code",
      "metadata": {
        "id": "Mlr3uzO4gArC"
      },
      "source": [
        ""
      ],
      "execution_count": null,
      "outputs": []
    },
    {
      "cell_type": "markdown",
      "metadata": {
        "id": "hlwEFvM4fNl5"
      },
      "source": [
        "* (a)와 (b) 사이의 정보획득량"
      ]
    },
    {
      "cell_type": "code",
      "metadata": {
        "id": "DRy-ekZoVQdy"
      },
      "source": [
        ""
      ],
      "execution_count": null,
      "outputs": []
    },
    {
      "cell_type": "markdown",
      "metadata": {
        "id": "kdI8U-x7fXVa"
      },
      "source": [
        "* (a)와 (c) 사이의 정보획득량"
      ]
    },
    {
      "cell_type": "code",
      "metadata": {
        "id": "rJkhiWfQfbqT"
      },
      "source": [
        ""
      ],
      "execution_count": null,
      "outputs": []
    },
    {
      "cell_type": "markdown",
      "metadata": {
        "id": "1gY5CW8R1LFb"
      },
      "source": [
        "## **4. 학습과정**\n",
        "---\n",
        "\n",
        "|날짜|바람|습도|온도|날씨|\n",
        "|---|---|---|---|---|\n",
        "|1|약|높음|높음|비\n",
        "|2|강|정상|낮음|맑음\n",
        "|3|약|정상|낮음|맑음\n",
        "|4|강|높음|낮음|비\n",
        "|5|약|정상|높음|맑음\n",
        "|6|강|높음|높음|비\n",
        "|7|강|높음|낮음|맑음\n",
        "|8|약|정상|낮음|맑음\n",
        "|9|강|높음|높음|비\n",
        "|10|강|높음|높음|비"
      ]
    },
    {
      "cell_type": "markdown",
      "metadata": {
        "id": "lYbjfG2b3rwZ"
      },
      "source": [
        "### **과정1. Root 노드의 불순도(Entropy) 계산**\n",
        "![](https://github.com/yebiny/Lecture_deeplearning_basic/blob/main/imgs/bdt_root.PNG?raw=true)"
      ]
    },
    {
      "cell_type": "code",
      "metadata": {
        "id": "Nc4FLRtj3xvg"
      },
      "source": [
        ""
      ],
      "execution_count": null,
      "outputs": []
    },
    {
      "cell_type": "markdown",
      "metadata": {
        "id": "JHzYpdIKFnPI"
      },
      "source": [
        "### **과정2. 각 속성별 자식 노드의 불순도(Entropy) 계산**"
      ]
    },
    {
      "cell_type": "markdown",
      "metadata": {
        "id": "rjhMm5VG4GyA"
      },
      "source": [
        "#### **바람**\n",
        "\n",
        "![](https://github.com/yebiny/Lecture_deeplearning_basic/blob/main/imgs/bdt_wind.PNG?raw=true)"
      ]
    },
    {
      "cell_type": "markdown",
      "metadata": {
        "id": "R0wRDtu_IEXP"
      },
      "source": [
        "* 자식 노드 엔트로피 계산"
      ]
    },
    {
      "cell_type": "code",
      "metadata": {
        "id": "bnO9eiM8_eyo"
      },
      "source": [
        ""
      ],
      "execution_count": null,
      "outputs": []
    },
    {
      "cell_type": "markdown",
      "metadata": {
        "id": "PUl-Sm_T6wuA"
      },
      "source": [
        "#### **습도**\n",
        "![](https://github.com/yebiny/Lecture_deeplearning_basic/blob/main/imgs/bdt_humidity.PNG?raw=true)"
      ]
    },
    {
      "cell_type": "markdown",
      "metadata": {
        "id": "IGbAsrv4IYcb"
      },
      "source": [
        "* 자식 노드 엔트로피 계산"
      ]
    },
    {
      "cell_type": "code",
      "metadata": {
        "id": "GFp0Fgu4BvYQ"
      },
      "source": [
        ""
      ],
      "execution_count": null,
      "outputs": []
    },
    {
      "cell_type": "markdown",
      "metadata": {
        "id": "TfDjDd6fC4zY"
      },
      "source": [
        "#### **온도**\n",
        "\n",
        "![](https://github.com/yebiny/Lecture_deeplearning_basic/blob/main/imgs/bdt_temp.PNG?raw=true)"
      ]
    },
    {
      "cell_type": "markdown",
      "metadata": {
        "id": "SFOi7pZYIpWC"
      },
      "source": [
        "* 자식 노드 엔트로피 계산"
      ]
    },
    {
      "cell_type": "code",
      "metadata": {
        "id": "SKel-CqlIpWD"
      },
      "source": [
        ""
      ],
      "execution_count": null,
      "outputs": []
    },
    {
      "cell_type": "markdown",
      "metadata": {
        "id": "j-MZ3qL7JJAo"
      },
      "source": [
        "### **과정3. 가장 높은 Information Gain을 가진 조건으로 먼저 분류**\n",
        "\n",
        "### <center>$ InformationGain = E_{parent}-w1 * E_{children1} - w2*E_{children2} - ...$</center>"
      ]
    },
    {
      "cell_type": "markdown",
      "metadata": {
        "id": "CXA7payZIJYR"
      },
      "source": [
        "* 바람 조건의 정보획득량 계산"
      ]
    },
    {
      "cell_type": "code",
      "metadata": {
        "id": "nnXWGTBGINSj"
      },
      "source": [
        ""
      ],
      "execution_count": null,
      "outputs": []
    },
    {
      "cell_type": "markdown",
      "metadata": {
        "id": "TVz6bbBJIYcb"
      },
      "source": [
        "* 습도 조건의 정보획득량 계산"
      ]
    },
    {
      "cell_type": "code",
      "metadata": {
        "id": "toS_TYoq6wMy"
      },
      "source": [
        ""
      ],
      "execution_count": null,
      "outputs": []
    },
    {
      "cell_type": "markdown",
      "metadata": {
        "id": "3JnMbuKkIpWF"
      },
      "source": [
        "* 온도 조건의 정보획득량 계산"
      ]
    },
    {
      "cell_type": "code",
      "metadata": {
        "id": "Ycja8KAYC4zs"
      },
      "source": [
        ""
      ],
      "execution_count": null,
      "outputs": []
    },
    {
      "cell_type": "markdown",
      "metadata": {
        "id": "G6NINlEdl9Ev"
      },
      "source": [
        "### **과정4. 모든 leaf 노드의 불순도가 0이 될때까지 2,3번 반복 수행**\n",
        "\n",
        "![](https://github.com/yebiny/Lecture_deeplearning_basic/blob/main/imgs/bdt_%EC%8A%B5%EB%8F%84_%EB%B0%94%EB%9E%8C_%EC%98%A8%EB%8F%84.PNG?raw=true)\n",
        "\n"
      ]
    },
    {
      "cell_type": "markdown",
      "metadata": {
        "id": "f6bhg-JKEinx"
      },
      "source": [
        "## **5. 실습**\n",
        "---"
      ]
    },
    {
      "cell_type": "markdown",
      "metadata": {
        "id": "2-viBCfJ3aRy"
      },
      "source": [
        "### **데이터**\n",
        "\n",
        "|날짜|바람|습도|온도|날씨|\n",
        "|---|---|---|---|---|\n",
        "|1|약|높음|높음|비\n",
        "|2|강|정상|낮음|맑음\n",
        "|3|약|정상|낮음|맑음\n",
        "|4|강|높음|낮음|비\n",
        "|5|약|정상|높음|맑음\n",
        "|6|강|높음|높음|비\n",
        "|7|강|높음|낮음|맑음\n",
        "|8|약|정상|낮음|맑음\n",
        "|9|강|높음|높음|비\n",
        "|10|강|높음|높음|비"
      ]
    },
    {
      "cell_type": "markdown",
      "metadata": {
        "id": "Llw4PAL9q6yu"
      },
      "source": [
        "* 데이터 정의"
      ]
    },
    {
      "cell_type": "code",
      "metadata": {
        "id": "lG7ap_Tl3b5i"
      },
      "source": [
        "x = [[0,1,1],\n",
        "     [1,0,0],\n",
        "     [0,0,0],\n",
        "\n",
        "\n",
        "\n",
        "     [1,1,1],\n",
        "     [1,1,1]]\n",
        "y = [0,1,1,0,1,0,1,1,0,0]\n",
        "\n",
        "x = np.array(x)\n",
        "y = np.array(y)"
      ],
      "execution_count": null,
      "outputs": []
    },
    {
      "cell_type": "markdown",
      "metadata": {
        "id": "PbQXfK_fq78W"
      },
      "source": [
        "* 데이터 다루기\n",
        "![](https://github.com/yebiny/Lecture_deeplearning_basic/blob/main/imgs/bdt_node_datas.PNG?raw=true)"
      ]
    },
    {
      "cell_type": "code",
      "metadata": {
        "id": "iLf3pkCLnHI3"
      },
      "source": [
        ""
      ],
      "execution_count": null,
      "outputs": []
    },
    {
      "cell_type": "markdown",
      "metadata": {
        "id": "iLtBc0T9rNEG"
      },
      "source": [
        "### **sklearn 을 이용한 모델구현**"
      ]
    },
    {
      "cell_type": "markdown",
      "metadata": {
        "id": "vykEkA4J4KVp"
      },
      "source": [
        "* 모델생성"
      ]
    },
    {
      "cell_type": "code",
      "metadata": {
        "id": "QoJkp4QiElSb"
      },
      "source": [
        ""
      ],
      "execution_count": null,
      "outputs": []
    },
    {
      "cell_type": "markdown",
      "metadata": {
        "id": "K0DQGLZ64OAI"
      },
      "source": [
        "* 데이터 학습"
      ]
    },
    {
      "cell_type": "code",
      "metadata": {
        "id": "92-ix1DM3dMe"
      },
      "source": [
        ""
      ],
      "execution_count": null,
      "outputs": []
    },
    {
      "cell_type": "markdown",
      "metadata": {
        "id": "GzMiBgfi4RNf"
      },
      "source": [
        "* 학습 결과"
      ]
    },
    {
      "cell_type": "code",
      "metadata": {
        "id": "pNvNH1BgEoSX"
      },
      "source": [
        ""
      ],
      "execution_count": null,
      "outputs": []
    },
    {
      "cell_type": "markdown",
      "metadata": {
        "id": "CyN2JJau4T1T"
      },
      "source": [
        "* 모델 시각화"
      ]
    },
    {
      "cell_type": "code",
      "metadata": {
        "id": "MxDRZWBlrcir"
      },
      "source": [
        ""
      ],
      "execution_count": null,
      "outputs": []
    }
  ]
}