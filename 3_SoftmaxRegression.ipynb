{
  "nbformat": 4,
  "nbformat_minor": 0,
  "metadata": {
    "colab": {
      "name": "3_SoftmaxRegression.ipynb",
      "provenance": [],
      "collapsed_sections": [],
      "authorship_tag": "ABX9TyOnL4KIviqQWPCQpY2fo65c",
      "include_colab_link": true
    },
    "kernelspec": {
      "name": "python3",
      "display_name": "Python 3"
    },
    "language_info": {
      "name": "python"
    }
  },
  "cells": [
    {
      "cell_type": "markdown",
      "metadata": {
        "id": "view-in-github",
        "colab_type": "text"
      },
      "source": [
        "<a href=\"https://colab.research.google.com/github/yebiny/Lecture_deeplearning_basic/blob/main/3_SoftmaxRegression.ipynb\" target=\"_parent\"><img src=\"https://colab.research.google.com/assets/colab-badge.svg\" alt=\"Open In Colab\"/></a>"
      ]
    },
    {
      "cell_type": "markdown",
      "metadata": {
        "id": "MhaiH8f2hSHN"
      },
      "source": [
        "# 소프트맥스 회귀 ( Softmax Regression )\n",
        "\n",
        ">**목차**\n",
        "1. 개념정리\n",
        "3. 원-핫 벡터\n",
        "3. 실습\n"
      ]
    },
    {
      "cell_type": "code",
      "metadata": {
        "id": "2VW4g5_Ogrng"
      },
      "source": [
        "import numpy as np\n",
        "import matplotlib.pyplot as plt\n",
        "from tensorflow.keras.models import Sequential\n",
        "from tensorflow.keras.layers import Dense\n",
        "from tensorflow.keras import optimizers"
      ],
      "execution_count": null,
      "outputs": []
    },
    {
      "cell_type": "markdown",
      "metadata": {
        "id": "Xspd1KqyT9ab"
      },
      "source": [
        "## 1. 개념정리\n",
        "---\n",
        "\n",
        "\n",
        "<br>\n",
        "\n",
        "###<center> < 가설 > </center>\n",
        "###  <center>$f(x)=softmax(xW+b)$</center>\n",
        "\n",
        "<br>\n",
        "\n",
        "### <center> < 목적 > </center>\n",
        "### <center>$(w^{*}, b^{*})=arg \\; min \\;J(y, \\hat{y})$</center>\n",
        "### <center> $ =arg \\; min \\;J(y, f(x))$</center>\n",
        "### <center> $ =arg \\; min \\;J(y, softmax(xW+b))$</center>"
      ]
    },
    {
      "cell_type": "markdown",
      "metadata": {
        "id": "wJvI8FdoNwM6"
      },
      "source": [
        "### **소프트맥스 함수 ( Softmax funtion )**\n",
        "\n",
        "<br>\n",
        "\n",
        "### <center> $softmax(x)_k = \\frac{1}{\\sum_{j=1}^{d}e^{(x_j)}}e(x_k)$\n",
        "\n",
        "<br>\n",
        "\n",
        "### <center> $softmax(x) = [\\frac{e(x_1)}{\\sum_{j=1}^{d}e^{(x_j)}}, \\frac{e(x_2)}{\\sum_{j=1}^{d}e^{(x_j)}} ... \\frac{e(x_d)}{\\sum_{j=1}^{d}e^{(x_j)}}]$"
      ]
    },
    {
      "cell_type": "markdown",
      "metadata": {
        "id": "yVrRMqlSxD2L"
      },
      "source": [
        "* 구현"
      ]
    },
    {
      "cell_type": "code",
      "metadata": {
        "id": "l6vzKZkrNX5O"
      },
      "source": [
        ""
      ],
      "execution_count": null,
      "outputs": []
    },
    {
      "cell_type": "markdown",
      "metadata": {
        "id": "TKJ93MeglS7s"
      },
      "source": [
        "* 예제\n",
        "  * $ x_1 = (2,1,1)$\n",
        "  * $ x_2 = (2,5,3)$\n",
        "  * $ x_3 = (-1,2,5)$"
      ]
    },
    {
      "cell_type": "code",
      "metadata": {
        "id": "xp0BcsXTlX4b"
      },
      "source": [
        ""
      ],
      "execution_count": null,
      "outputs": []
    },
    {
      "cell_type": "markdown",
      "metadata": {
        "id": "SzKxctP_YrtO"
      },
      "source": [
        "### **가설 구현**\n",
        "###<center>$f(x)=softmax(xW+b)$</center>"
      ]
    },
    {
      "cell_type": "code",
      "metadata": {
        "id": "itvJt9yRkZib"
      },
      "source": [
        ""
      ],
      "execution_count": null,
      "outputs": []
    },
    {
      "cell_type": "markdown",
      "metadata": {
        "id": "heC50xSfZ28d"
      },
      "source": [
        "### **예제**\n",
        "\n",
        "|X|\n",
        "|------|\n",
        "|-3|\n",
        "|-2|\n",
        "|-1|\n",
        "|0|\n",
        "|1|\n",
        "|2|\n",
        "|3|\n"
      ]
    },
    {
      "cell_type": "markdown",
      "metadata": {
        "id": "31x3U7SB2ziD"
      },
      "source": [
        "* 데이터 정의\n",
        "\n"
      ]
    },
    {
      "cell_type": "code",
      "metadata": {
        "id": "IAi3_LvS1BYj"
      },
      "source": [
        ""
      ],
      "execution_count": null,
      "outputs": []
    },
    {
      "cell_type": "markdown",
      "metadata": {
        "id": "RVfGUYHqZqNY"
      },
      "source": [
        "* 예측"
      ]
    },
    {
      "cell_type": "code",
      "metadata": {
        "id": "jFmDoJ3JZqH2"
      },
      "source": [
        ""
      ],
      "execution_count": null,
      "outputs": []
    },
    {
      "cell_type": "markdown",
      "metadata": {
        "id": "OhHRBWI4p2ZV"
      },
      "source": [
        "## 2. 원-핫 벡터 (Cross Entropy)\n",
        "---\n",
        "\n",
        "|X|Y|\n",
        "|---|--|\n",
        "|-3|패배|\n",
        "|-2|패배|\n",
        "|-1|패배|\n",
        "|0|무승부|\n",
        "|1|무승부|\n",
        "|2|승리|\n",
        "|3|승리|\n"
      ]
    },
    {
      "cell_type": "markdown",
      "metadata": {
        "id": "5hdReH-XssPl"
      },
      "source": [
        "* 데이터 정의\n",
        "```\n",
        "from tensorflow.keras.utils import to_categorical\n",
        "y_data_onehot = to_categorical(y_data, num_classes=3)\n",
        "```\n",
        "\n"
      ]
    },
    {
      "cell_type": "code",
      "metadata": {
        "id": "Dhozk5KpssPm"
      },
      "source": [
        ""
      ],
      "execution_count": null,
      "outputs": []
    },
    {
      "cell_type": "markdown",
      "metadata": {
        "id": "dcvlzGY7w7_N"
      },
      "source": [
        "\n",
        "## 3. 실습\n",
        "---"
      ]
    },
    {
      "cell_type": "markdown",
      "metadata": {
        "id": "lERyWr69x0hT"
      },
      "source": [
        "### **데이터**\n",
        "|공부시간|집중도|수면시간|종합성적|합격여부|\n",
        "|------|---|---|---|---|\n",
        "|0|1|9|0|불합격|\n",
        "|1|1|8.5|1.1|불합격|\n",
        "|2|2|8|2.3|불합격|\n",
        "|3|4|8|3.0|유예|\n",
        "|4|3|7|4.4|유예|\n",
        "|5|5|7.5|5.5|유예|\n",
        "|6|6|7|6.1|유예|\n",
        "|7|6|6|7.3|합격|\n",
        "|8|7|7|8.4|합격|\n",
        "|9|6|6.5|9.8|합격|"
      ]
    },
    {
      "cell_type": "markdown",
      "metadata": {
        "id": "W05K5U6jr4hF"
      },
      "source": [
        "* 데이터 정의"
      ]
    },
    {
      "cell_type": "code",
      "metadata": {
        "id": "O8Azp_7AhYc3"
      },
      "source": [
        "X = [[0,1,9,0],\n",
        "      [1,1,8.5,1.1],\n",
        "      [2,2,8,2.3],\n",
        "      [3,4,8,3.0],\n",
        "      [4,3,7,4.4],\n",
        "     ]\n",
        "Y = [[1,0,0],\n",
        "     [1,0,0],\n",
        "     [0,1,0],\n",
        "     [0,1,0],\n",
        "     [0,1,0],\n",
        "     ]"
      ],
      "execution_count": null,
      "outputs": []
    },
    {
      "cell_type": "markdown",
      "metadata": {
        "id": "vKgnvyq0NIio"
      },
      "source": [
        "* 시각화 "
      ]
    },
    {
      "cell_type": "code",
      "metadata": {
        "id": "XE61QbZViBcv"
      },
      "source": [
        ""
      ],
      "execution_count": null,
      "outputs": []
    },
    {
      "cell_type": "markdown",
      "metadata": {
        "id": "sjzd0-TyxwDM"
      },
      "source": [
        "###  **모델 생성**"
      ]
    },
    {
      "cell_type": "markdown",
      "metadata": {
        "id": "w341U_IMr_Ay"
      },
      "source": [
        "* 케라스를 이용한 모델 구현"
      ]
    },
    {
      "cell_type": "code",
      "metadata": {
        "id": "_U2vEe_sN-Hd"
      },
      "source": [
        ""
      ],
      "execution_count": null,
      "outputs": []
    },
    {
      "cell_type": "markdown",
      "metadata": {
        "id": "OBKpPVHFyTsb"
      },
      "source": [
        "* 학습 파라미터 확인"
      ]
    },
    {
      "cell_type": "code",
      "metadata": {
        "id": "9hHOMXhkyPXa"
      },
      "source": [
        ""
      ],
      "execution_count": null,
      "outputs": []
    },
    {
      "cell_type": "markdown",
      "metadata": {
        "id": "wfC7jd1tsKgr"
      },
      "source": [
        "* 시각화"
      ]
    },
    {
      "cell_type": "code",
      "metadata": {
        "id": "vKTNcPF3zaPk"
      },
      "source": [
        ""
      ],
      "execution_count": null,
      "outputs": []
    },
    {
      "cell_type": "markdown",
      "metadata": {
        "id": "GpvKk6lsymbd"
      },
      "source": [
        "### **모델 학습**"
      ]
    },
    {
      "cell_type": "markdown",
      "metadata": {
        "id": "VaLNy_3atLZ8"
      },
      "source": [
        "* 모델 컴파일"
      ]
    },
    {
      "cell_type": "code",
      "metadata": {
        "id": "j6zS1DtnyTOT"
      },
      "source": [
        ""
      ],
      "execution_count": null,
      "outputs": []
    },
    {
      "cell_type": "markdown",
      "metadata": {
        "id": "ZxywaIertNp0"
      },
      "source": [
        "* 학습 진행"
      ]
    },
    {
      "cell_type": "code",
      "metadata": {
        "id": "JSW0c3Lzypip"
      },
      "source": [
        ""
      ],
      "execution_count": null,
      "outputs": []
    },
    {
      "cell_type": "markdown",
      "metadata": {
        "id": "e0215hW8tTj0"
      },
      "source": [
        "### **결과**"
      ]
    },
    {
      "cell_type": "markdown",
      "metadata": {
        "id": "W168xYmMtVij"
      },
      "source": [
        "* 학습 파라미터 확인"
      ]
    },
    {
      "cell_type": "code",
      "metadata": {
        "id": "Aj42y5watYT7"
      },
      "source": [
        ""
      ],
      "execution_count": null,
      "outputs": []
    },
    {
      "cell_type": "markdown",
      "metadata": {
        "id": "Z8T5AAV2TolY"
      },
      "source": [
        "* 예측"
      ]
    },
    {
      "cell_type": "code",
      "metadata": {
        "id": "8wVuvg_5TqKR"
      },
      "source": [
        ""
      ],
      "execution_count": null,
      "outputs": []
    },
    {
      "cell_type": "markdown",
      "metadata": {
        "id": "WZP0UAgGtbXD"
      },
      "source": [
        "* 시각화"
      ]
    },
    {
      "cell_type": "code",
      "metadata": {
        "id": "pXDWEWIDtbXD"
      },
      "source": [
        ""
      ],
      "execution_count": null,
      "outputs": []
    }
  ]
}